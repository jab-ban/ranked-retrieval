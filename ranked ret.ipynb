{
 "cells": [
  {
   "cell_type": "code",
   "execution_count": 1,
   "metadata": {
    "colab": {
     "base_uri": "https://localhost:8080/"
    },
    "executionInfo": {
     "elapsed": 9190,
     "status": "ok",
     "timestamp": 1755772638912,
     "user": {
      "displayName": "Ban Jabateh",
      "userId": "15978800708495640733"
     },
     "user_tz": -180
    },
    "id": "Qdb6XA-Kjrzm",
    "outputId": "80c2dd9a-5fe3-4dde-c258-a1071ef05e2d"
   },
   "outputs": [
    {
     "name": "stdout",
     "output_type": "stream",
     "text": [
      "Collecting rank_bm25\n",
      "  Downloading rank_bm25-0.2.2-py3-none-any.whl.metadata (3.2 kB)\n",
      "Requirement already satisfied: numpy in /usr/local/lib/python3.12/dist-packages (from rank_bm25) (2.0.2)\n",
      "Downloading rank_bm25-0.2.2-py3-none-any.whl (8.6 kB)\n",
      "Installing collected packages: rank_bm25\n",
      "Successfully installed rank_bm25-0.2.2\n"
     ]
    }
   ],
   "source": [
    "!pip install rank_bm25"
   ]
  },
  {
   "cell_type": "code",
   "execution_count": 2,
   "metadata": {
    "executionInfo": {
     "elapsed": 6645,
     "status": "ok",
     "timestamp": 1755772647509,
     "user": {
      "displayName": "Ban Jabateh",
      "userId": "15978800708495640733"
     },
     "user_tz": -180
    },
    "id": "kDk3VccdlEJr"
   },
   "outputs": [],
   "source": [
    "from rank_bm25 import BM25Okapi\n",
    "import nltk\n",
    "from nltk.tokenize import word_tokenize\n",
    "from nltk.corpus import stopwords\n",
    "from sklearn.feature_extraction.text import CountVectorizer\n",
    "import re\n",
    "import string"
   ]
  },
  {
   "cell_type": "code",
   "execution_count": 69,
   "metadata": {
    "colab": {
     "base_uri": "https://localhost:8080/"
    },
    "executionInfo": {
     "elapsed": 94,
     "status": "ok",
     "timestamp": 1755715753981,
     "user": {
      "displayName": "Ban Jabateh",
      "userId": "15978800708495640733"
     },
     "user_tz": -180
    },
    "id": "kH0TLnVClJsX",
    "outputId": "575deea3-5b24-45c3-e9fc-c2a757a9809f"
   },
   "outputs": [
    {
     "name": "stderr",
     "output_type": "stream",
     "text": [
      "[nltk_data] Downloading package punkt to /root/nltk_data...\n",
      "[nltk_data]   Package punkt is already up-to-date!\n",
      "[nltk_data] Downloading package stopwords to /root/nltk_data...\n",
      "[nltk_data]   Unzipping corpora/stopwords.zip.\n"
     ]
    }
   ],
   "source": [
    "nltk.download(\"punkt\")\n",
    "nltk.download(\"stopwords\")\n",
    "vectorizer = CountVectorizer()"
   ]
  },
  {
   "cell_type": "code",
   "execution_count": 23,
   "metadata": {
    "colab": {
     "base_uri": "https://localhost:8080/"
    },
    "executionInfo": {
     "elapsed": 11,
     "status": "ok",
     "timestamp": 1755712779916,
     "user": {
      "displayName": "Ban Jabateh",
      "userId": "15978800708495640733"
     },
     "user_tz": -180
    },
    "id": "7MWzWBMelLMt",
    "outputId": "28961842-a23d-4e36-83f7-81e0c498bc9c"
   },
   "outputs": [
    {
     "name": "stdout",
     "output_type": "stream",
     "text": [
      "Hello there i am Ban!\n",
      "It is quite windy in Irbid\n",
      "How is the weather in Amman?\n"
     ]
    }
   ],
   "source": [
    "corpus=[\n",
    "    \"Hello there i am Ban!\",\n",
    "    \"It is quite windy in Irbid\",\n",
    "    \"How is the weather in Amman?\"\n",
    "]\n",
    "tokenized_corpus=[doc.split(\"  \")for doc in corpus]\n",
    "tokenized_corpus=[]\n",
    "for doc in corpus:\n",
    "    print(doc)\n",
    "    doc_tokens=doc.split()\n",
    "    tokenized_corpus.append(doc_tokens)"
   ]
  },
  {
   "cell_type": "code",
   "execution_count": 24,
   "metadata": {
    "colab": {
     "base_uri": "https://localhost:8080/"
    },
    "executionInfo": {
     "elapsed": 22,
     "status": "ok",
     "timestamp": 1755712782240,
     "user": {
      "displayName": "Ban Jabateh",
      "userId": "15978800708495640733"
     },
     "user_tz": -180
    },
    "id": "8faeBqPTlzcr",
    "outputId": "df534030-33a5-49d6-e902-4d99924ef8f2"
   },
   "outputs": [
    {
     "data": {
      "text/plain": [
       "[['Hello', 'there', 'i', 'am', 'Ban!'],\n",
       " ['It', 'is', 'quite', 'windy', 'in', 'Irbid'],\n",
       " ['How', 'is', 'the', 'weather', 'in', 'Amman?']]"
      ]
     },
     "execution_count": 24,
     "metadata": {},
     "output_type": "execute_result"
    }
   ],
   "source": [
    "tokenized_corpus"
   ]
  },
  {
   "cell_type": "code",
   "execution_count": 22,
   "metadata": {
    "executionInfo": {
     "elapsed": 7,
     "status": "ok",
     "timestamp": 1755712325373,
     "user": {
      "displayName": "Ban Jabateh",
      "userId": "15978800708495640733"
     },
     "user_tz": -180
    },
    "id": "vN9YRn0xl45_"
   },
   "outputs": [],
   "source": [
    "bm25=BM25Okapi(tokenized_corpus)"
   ]
  },
  {
   "cell_type": "code",
   "execution_count": 34,
   "metadata": {
    "executionInfo": {
     "elapsed": 17,
     "status": "ok",
     "timestamp": 1755713591082,
     "user": {
      "displayName": "Ban Jabateh",
      "userId": "15978800708495640733"
     },
     "user_tz": -180
    },
    "id": "16qG02uTnNOj"
   },
   "outputs": [],
   "source": [
    "query=\"irbid\"\n",
    "tokenized_query=query.split(\" \")"
   ]
  },
  {
   "cell_type": "code",
   "execution_count": 35,
   "metadata": {
    "colab": {
     "base_uri": "https://localhost:8080/"
    },
    "executionInfo": {
     "elapsed": 14,
     "status": "ok",
     "timestamp": 1755713592312,
     "user": {
      "displayName": "Ban Jabateh",
      "userId": "15978800708495640733"
     },
     "user_tz": -180
    },
    "id": "u2hWg-NOo0cw",
    "outputId": "438a24af-b48c-45bd-890d-ba1aaf523a61"
   },
   "outputs": [
    {
     "data": {
      "text/plain": [
       "['irbid']"
      ]
     },
     "execution_count": 35,
     "metadata": {},
     "output_type": "execute_result"
    }
   ],
   "source": [
    "tokenized_query"
   ]
  },
  {
   "cell_type": "code",
   "execution_count": 36,
   "metadata": {
    "colab": {
     "base_uri": "https://localhost:8080/"
    },
    "executionInfo": {
     "elapsed": 9,
     "status": "ok",
     "timestamp": 1755713593713,
     "user": {
      "displayName": "Ban Jabateh",
      "userId": "15978800708495640733"
     },
     "user_tz": -180
    },
    "id": "oNoo-OHepC73",
    "outputId": "3dfac356-23ba-47af-fbda-3f1d94829011"
   },
   "outputs": [
    {
     "data": {
      "text/plain": [
       "array([0., 0., 0.])"
      ]
     },
     "execution_count": 36,
     "metadata": {},
     "output_type": "execute_result"
    }
   ],
   "source": [
    "doc_scores=bm25.get_scores(tokenized_query)\n",
    "doc_scores #the actual index that we want to return a result for"
   ]
  },
  {
   "cell_type": "code",
   "execution_count": 38,
   "metadata": {
    "colab": {
     "base_uri": "https://localhost:8080/"
    },
    "executionInfo": {
     "elapsed": 17,
     "status": "ok",
     "timestamp": 1755713598967,
     "user": {
      "displayName": "Ban Jabateh",
      "userId": "15978800708495640733"
     },
     "user_tz": -180
    },
    "id": "NDN-g8UDrI29",
    "outputId": "686f8b08-a896-483f-ce55-309d330ef3b1"
   },
   "outputs": [
    {
     "data": {
      "text/plain": [
       "['How is the weather in Amman?']"
      ]
     },
     "execution_count": 38,
     "metadata": {},
     "output_type": "execute_result"
    }
   ],
   "source": [
    "bm25.get_top_n(tokenized_query,corpus,n=1)"
   ]
  },
  {
   "cell_type": "code",
   "execution_count": 79,
   "metadata": {
    "executionInfo": {
     "elapsed": 41,
     "status": "ok",
     "timestamp": 1755716072258,
     "user": {
      "displayName": "Ban Jabateh",
      "userId": "15978800708495640733"
     },
     "user_tz": -180
    },
    "id": "SdmSB7-OyURT"
   },
   "outputs": [],
   "source": [
    "stop_words = set(stopwords.words(\"english\"))\n",
    "def remove_puncts(input_string):\n",
    "   return \" \".join([w for w in input_string.lower()\n",
    "                 .translate(str.maketrans('', '', string.punctuation + string.digits))\n",
    "                 .split() if w not in stop_words])"
   ]
  },
  {
   "cell_type": "code",
   "execution_count": 80,
   "metadata": {
    "colab": {
     "base_uri": "https://localhost:8080/"
    },
    "executionInfo": {
     "elapsed": 10,
     "status": "ok",
     "timestamp": 1755716075392,
     "user": {
      "displayName": "Ban Jabateh",
      "userId": "15978800708495640733"
     },
     "user_tz": -180
    },
    "id": "a3mVZmbcxgMI",
    "outputId": "5994d6fe-eda6-4461-e60d-c8033c9092e3"
   },
   "outputs": [
    {
     "name": "stdout",
     "output_type": "stream",
     "text": [
      "Hello there i am Ban!\n",
      "hello ban\n",
      "\n",
      "It is quite windy in Irbid\n",
      "quite windy irbid\n",
      "\n",
      "How is the weather in Amman?\n",
      "weather amman\n",
      "\n"
     ]
    }
   ],
   "source": [
    "cleaned_corpus = []\n",
    "for doc in corpus:\n",
    "    print(doc)\n",
    "    clean_doc = remove_puncts(doc)\n",
    "    print(clean_doc)\n",
    "    cleaned_corpus.append(clean_doc)\n",
    "    print()"
   ]
  },
  {
   "cell_type": "code",
   "execution_count": 81,
   "metadata": {
    "colab": {
     "base_uri": "https://localhost:8080/"
    },
    "executionInfo": {
     "elapsed": 15,
     "status": "ok",
     "timestamp": 1755716076336,
     "user": {
      "displayName": "Ban Jabateh",
      "userId": "15978800708495640733"
     },
     "user_tz": -180
    },
    "id": "MvOfPb49xnwV",
    "outputId": "97687ada-a20e-4f36-c68a-c8d253653081"
   },
   "outputs": [
    {
     "data": {
      "text/plain": [
       "['hello ban', 'quite windy irbid', 'weather amman']"
      ]
     },
     "execution_count": 81,
     "metadata": {},
     "output_type": "execute_result"
    }
   ],
   "source": [
    "cleaned_corpus"
   ]
  },
  {
   "cell_type": "code",
   "execution_count": 83,
   "metadata": {
    "colab": {
     "base_uri": "https://localhost:8080/"
    },
    "executionInfo": {
     "elapsed": 26,
     "status": "ok",
     "timestamp": 1755720490850,
     "user": {
      "displayName": "Ban Jabateh",
      "userId": "15978800708495640733"
     },
     "user_tz": -180
    },
    "id": "kgV_Ff_AzAUh",
    "outputId": "6bc3e4ee-8977-40b8-fb5b-28d5505965bf"
   },
   "outputs": [
    {
     "name": "stdout",
     "output_type": "stream",
     "text": [
      "hello ban\n",
      "quite windy irbid\n",
      "weather amman\n"
     ]
    }
   ],
   "source": [
    "tokenized_corpus_cleaned=[]\n",
    "for doc in cleaned_corpus:\n",
    "    print(doc)\n",
    "    doc=doc.split()\n",
    "    tokenized_corpus_cleaned.append(doc)"
   ]
  },
  {
   "cell_type": "code",
   "execution_count": 84,
   "metadata": {
    "colab": {
     "base_uri": "https://localhost:8080/"
    },
    "executionInfo": {
     "elapsed": 19,
     "status": "ok",
     "timestamp": 1755720511767,
     "user": {
      "displayName": "Ban Jabateh",
      "userId": "15978800708495640733"
     },
     "user_tz": -180
    },
    "id": "SAiibj3-GL9k",
    "outputId": "c69264d9-a33f-4211-8133-6d19564df3cc"
   },
   "outputs": [
    {
     "data": {
      "text/plain": [
       "[['hello', 'ban'], ['quite', 'windy', 'irbid'], ['weather', 'amman']]"
      ]
     },
     "execution_count": 84,
     "metadata": {},
     "output_type": "execute_result"
    }
   ],
   "source": [
    "tokenized_corpus_cleaned"
   ]
  },
  {
   "cell_type": "code",
   "execution_count": 85,
   "metadata": {
    "executionInfo": {
     "elapsed": 12,
     "status": "ok",
     "timestamp": 1755720585221,
     "user": {
      "displayName": "Ban Jabateh",
      "userId": "15978800708495640733"
     },
     "user_tz": -180
    },
    "id": "TM8EGz1RGQGS"
   },
   "outputs": [],
   "source": [
    "bm25=BM25Okapi(tokenized_corpus_cleaned)"
   ]
  },
  {
   "cell_type": "code",
   "execution_count": 87,
   "metadata": {
    "colab": {
     "base_uri": "https://localhost:8080/"
    },
    "executionInfo": {
     "elapsed": 19,
     "status": "ok",
     "timestamp": 1755720693924,
     "user": {
      "displayName": "Ban Jabateh",
      "userId": "15978800708495640733"
     },
     "user_tz": -180
    },
    "id": "xQzmvnW2GhT4",
    "outputId": "f105ebe4-a6d5-4b71-bca3-e91212e36966"
   },
   "outputs": [
    {
     "data": {
      "text/plain": [
       "['quite windy irbid']"
      ]
     },
     "execution_count": 87,
     "metadata": {},
     "output_type": "execute_result"
    }
   ],
   "source": [
    "bm25.get_top_n(tokenized_query,cleaned_corpus,n=1)"
   ]
  },
  {
   "cell_type": "code",
   "execution_count": 94,
   "metadata": {
    "colab": {
     "base_uri": "https://localhost:8080/"
    },
    "executionInfo": {
     "elapsed": 27,
     "status": "ok",
     "timestamp": 1755720855813,
     "user": {
      "displayName": "Ban Jabateh",
      "userId": "15978800708495640733"
     },
     "user_tz": -180
    },
    "id": "nJjYJnexG__J",
    "outputId": "511a471a-9bc3-4bdc-c179-8d7d9562c594"
   },
   "outputs": [
    {
     "data": {
      "text/plain": [
       "['How is the weather in Amman?']"
      ]
     },
     "execution_count": 94,
     "metadata": {},
     "output_type": "execute_result"
    }
   ],
   "source": [
    "query='AMMAN'\n",
    "tokenized_query=remove_puncts(query).split(\" \")\n",
    "bm25.get_top_n(tokenized_query,corpus,n=1)"
   ]
  },
  {
   "cell_type": "code",
   "execution_count": 95,
   "metadata": {
    "colab": {
     "base_uri": "https://localhost:8080/"
    },
    "executionInfo": {
     "elapsed": 17,
     "status": "ok",
     "timestamp": 1755720861165,
     "user": {
      "displayName": "Ban Jabateh",
      "userId": "15978800708495640733"
     },
     "user_tz": -180
    },
    "id": "RkNB-HqcHEQA",
    "outputId": "7761f79c-9c82-472c-fdc4-597ae650f703"
   },
   "outputs": [
    {
     "data": {
      "text/plain": [
       "['amman']"
      ]
     },
     "execution_count": 95,
     "metadata": {},
     "output_type": "execute_result"
    }
   ],
   "source": [
    "tokenized_query"
   ]
  },
  {
   "cell_type": "code",
   "execution_count": 96,
   "metadata": {
    "executionInfo": {
     "elapsed": 21,
     "status": "ok",
     "timestamp": 1755721455764,
     "user": {
      "displayName": "Ban Jabateh",
      "userId": "15978800708495640733"
     },
     "user_tz": -180
    },
    "id": "32mD8kdKIE-J"
   },
   "outputs": [],
   "source": [
    "import pickle"
   ]
  },
  {
   "cell_type": "code",
   "execution_count": 99,
   "metadata": {
    "executionInfo": {
     "elapsed": 12,
     "status": "ok",
     "timestamp": 1755721575379,
     "user": {
      "displayName": "Ban Jabateh",
      "userId": "15978800708495640733"
     },
     "user_tz": -180
    },
    "id": "OQjnSq0GJ13C"
   },
   "outputs": [],
   "source": [
    "fname=\"model.pkl\"\n",
    "with open(fname,\"wb\")as file:\n",
    "  pickle.dump(bm25,file)"
   ]
  },
  {
   "cell_type": "code",
   "execution_count": 100,
   "metadata": {
    "executionInfo": {
     "elapsed": 13,
     "status": "ok",
     "timestamp": 1755721612878,
     "user": {
      "displayName": "Ban Jabateh",
      "userId": "15978800708495640733"
     },
     "user_tz": -180
    },
    "id": "u0Aaf6sNKTtN"
   },
   "outputs": [],
   "source": [
    "with open (fname,'rb') as file:\n",
    "  model=pickle.load(file)"
   ]
  },
  {
   "cell_type": "code",
   "execution_count": 102,
   "metadata": {
    "colab": {
     "base_uri": "https://localhost:8080/"
    },
    "executionInfo": {
     "elapsed": 19,
     "status": "ok",
     "timestamp": 1755721648893,
     "user": {
      "displayName": "Ban Jabateh",
      "userId": "15978800708495640733"
     },
     "user_tz": -180
    },
    "id": "2ZNWT1o0Kg3-",
    "outputId": "8f296f06-4d5b-49ac-c3ed-340fb4e29ae0"
   },
   "outputs": [
    {
     "data": {
      "text/plain": [
       "['How is the weather in Amman?']"
      ]
     },
     "execution_count": 102,
     "metadata": {},
     "output_type": "execute_result"
    }
   ],
   "source": [
    "model.get_top_n(tokenized_query,corpus,n=1)"
   ]
  },
  {
   "cell_type": "code",
   "execution_count": 104,
   "metadata": {
    "executionInfo": {
     "elapsed": 7,
     "status": "ok",
     "timestamp": 1755721853321,
     "user": {
      "displayName": "Ban Jabateh",
      "userId": "15978800708495640733"
     },
     "user_tz": -180
    },
    "id": "Czo9rUNLLQlC"
   },
   "outputs": [],
   "source": [
    "import glob"
   ]
  },
  {
   "cell_type": "code",
   "execution_count": 111,
   "metadata": {
    "colab": {
     "base_uri": "https://localhost:8080/"
    },
    "executionInfo": {
     "elapsed": 19,
     "status": "ok",
     "timestamp": 1755722156600,
     "user": {
      "displayName": "Ban Jabateh",
      "userId": "15978800708495640733"
     },
     "user_tz": -180
    },
    "id": "bclN1ksSLU2T",
    "outputId": "7b2db97e-e801-4a8c-b351-99f5bce31a02"
   },
   "outputs": [
    {
     "data": {
      "text/plain": [
       "1"
      ]
     },
     "execution_count": 111,
     "metadata": {},
     "output_type": "execute_result"
    }
   ],
   "source": [
    "files=glob.glob(\"/content/sample_corpus.json\")\n",
    "len(files)"
   ]
  },
  {
   "cell_type": "code",
   "execution_count": 119,
   "metadata": {
    "colab": {
     "base_uri": "https://localhost:8080/"
    },
    "executionInfo": {
     "elapsed": 32,
     "status": "ok",
     "timestamp": 1755722437803,
     "user": {
      "displayName": "Ban Jabateh",
      "userId": "15978800708495640733"
     },
     "user_tz": -180
    },
    "id": "mp5kJlidMjAV",
    "outputId": "84a07604-2048-4788-9f00-eca3145974ce"
   },
   "outputs": [
    {
     "name": "stdout",
     "output_type": "stream",
     "text": [
      "[{'id': 1, 'text': 'Information retrieval ranks documents by relevance.'}, {'id': 2, 'text': 'BM25 is a probabilistic ranking function.'}, {'id': 3, 'text': 'We use tokenization and scoring for search.'}, {'id': 4, 'text': 'Neural ranking is another approach to retrieval.'}]\n",
      "Information retrieval ranks documents by relevance.\n",
      "BM25 is a probabilistic ranking function.\n",
      "We use tokenization and scoring for search.\n",
      "Neural ranking is another approach to retrieval.\n"
     ]
    }
   ],
   "source": [
    "import json\n",
    "cor=[]\n",
    "for file in files:\n",
    "  with open(file,\"r\")as f:\n",
    "    data=json.load(f)\n",
    "  segments=data[\"documents\"]\n",
    "  print(segments)\n",
    "  for seg in segments:\n",
    "    ans=seg[\"text\"]\n",
    "    print(ans)\n",
    "    cor.append(ans)"
   ]
  },
  {
   "cell_type": "code",
   "execution_count": 120,
   "metadata": {
    "colab": {
     "base_uri": "https://localhost:8080/"
    },
    "executionInfo": {
     "elapsed": 41,
     "status": "ok",
     "timestamp": 1755722454129,
     "user": {
      "displayName": "Ban Jabateh",
      "userId": "15978800708495640733"
     },
     "user_tz": -180
    },
    "id": "kKOyLGBGM04A",
    "outputId": "d3ba5e09-ffea-4a24-c457-d422575c2ae5"
   },
   "outputs": [
    {
     "data": {
      "text/plain": [
       "4"
      ]
     },
     "execution_count": 120,
     "metadata": {},
     "output_type": "execute_result"
    }
   ],
   "source": [
    "len(cor)"
   ]
  },
  {
   "cell_type": "code",
   "execution_count": 123,
   "metadata": {
    "colab": {
     "base_uri": "https://localhost:8080/"
    },
    "executionInfo": {
     "elapsed": 32,
     "status": "ok",
     "timestamp": 1755722581613,
     "user": {
      "displayName": "Ban Jabateh",
      "userId": "15978800708495640733"
     },
     "user_tz": -180
    },
    "id": "_nLdWEmqNqs_",
    "outputId": "990535f0-3e6c-46d4-deb5-1f43e8b275ff"
   },
   "outputs": [
    {
     "name": "stdout",
     "output_type": "stream",
     "text": [
      "[['information', 'retrieval', 'ranks', 'documents', 'relevance']]\n",
      "[['information', 'retrieval', 'ranks', 'documents', 'relevance'], ['bm', 'probabilistic', 'ranking', 'function']]\n",
      "[['information', 'retrieval', 'ranks', 'documents', 'relevance'], ['bm', 'probabilistic', 'ranking', 'function'], ['use', 'tokenization', 'scoring', 'search']]\n",
      "[['information', 'retrieval', 'ranks', 'documents', 'relevance'], ['bm', 'probabilistic', 'ranking', 'function'], ['use', 'tokenization', 'scoring', 'search'], ['neural', 'ranking', 'another', 'approach', 'retrieval']]\n"
     ]
    }
   ],
   "source": [
    "tokenized_cor=[]\n",
    "for doc in cor:\n",
    "  clean_doc=remove_puncts(doc).split()\n",
    "  tokenized_cor.append(clean_doc)\n",
    "  print(tokenized_cor)"
   ]
  },
  {
   "cell_type": "code",
   "execution_count": 124,
   "metadata": {
    "colab": {
     "base_uri": "https://localhost:8080/"
    },
    "executionInfo": {
     "elapsed": 70,
     "status": "ok",
     "timestamp": 1755722628889,
     "user": {
      "displayName": "Ban Jabateh",
      "userId": "15978800708495640733"
     },
     "user_tz": -180
    },
    "id": "2flyWoxDOOsX",
    "outputId": "c31feb18-5761-4f39-9881-227c49242eb7"
   },
   "outputs": [
    {
     "data": {
      "text/plain": [
       "[['information', 'retrieval', 'ranks', 'documents', 'relevance'],\n",
       " ['bm', 'probabilistic', 'ranking', 'function']]"
      ]
     },
     "execution_count": 124,
     "metadata": {},
     "output_type": "execute_result"
    }
   ],
   "source": [
    "tokenized_cor[:2]"
   ]
  }
 ],
 "metadata": {
  "colab": {
   "authorship_tag": "ABX9TyO5WAM0EYDgW58SnCLPolQj",
   "provenance": []
  },
  "kernelspec": {
   "display_name": "Python 3",
   "name": "python3"
  },
  "language_info": {
   "name": "python"
  }
 },
 "nbformat": 4,
 "nbformat_minor": 0
}
